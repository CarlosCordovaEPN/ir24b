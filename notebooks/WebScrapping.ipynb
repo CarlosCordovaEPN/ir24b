{
 "cells": [
  {
   "cell_type": "code",
   "execution_count": 3,
   "metadata": {},
   "outputs": [],
   "source": [
    "import pandas as pd\n",
    "\n",
    "\n",
    "\n",
    "from selenium.webdriver.common.by import By\n",
    "from selenium import webdriver\n"
   ]
  },
  {
   "cell_type": "markdown",
   "metadata": {},
   "source": [
    "### WEB SCRAPPING\n"
   ]
  },
  {
   "cell_type": "code",
   "execution_count": 4,
   "metadata": {},
   "outputs": [],
   "source": [
    "def extract_element_text(driver, xpath, default=\"\"):\n",
    "    try:\n",
    "        return driver.find_element(By.XPATH, xpath).text.strip()\n",
    "    except Exception as e:\n",
    "        print(f\"Error extracting {xpath}: {e}\")\n",
    "        return default"
   ]
  },
  {
   "cell_type": "code",
   "execution_count": 5,
   "metadata": {},
   "outputs": [],
   "source": [
    "def extract_elements(driver, xpath):\n",
    "    try:\n",
    "        return driver.find_elements(By.XPATH, xpath)\n",
    "    except Exception as e:\n",
    "        print(f\"Error finding elements for {xpath}: {e}\")\n",
    "        return []"
   ]
  },
  {
   "cell_type": "code",
   "execution_count": 6,
   "metadata": {},
   "outputs": [],
   "source": [
    "def scrape_recipe(driver):\n",
    "    # Extract title\n",
    "    titulo_xpath = '//h1[@class=\"article-heading text-headline-400\"]'\n",
    "    titulo = extract_element_text(driver, titulo_xpath)\n",
    "\n",
    "    # Extract times and servings\n",
    "    prep_time_xpath = '//div[contains(text(),\"Prep Time:\")]/following-sibling::div'\n",
    "    cook_time_xpath = '//div[contains(text(),\"Cook Time:\")]/following-sibling::div'\n",
    "    total_time_xpath = '//div[contains(text(),\"Total Time:\")]/following-sibling::div'\n",
    "    servings_xpath = '//div[contains(text(),\"Servings:\")]/following-sibling::div'\n",
    "\n",
    "    prep_time = extract_element_text(driver, prep_time_xpath)\n",
    "    cook_time = extract_element_text(driver, cook_time_xpath)\n",
    "    total_time = extract_element_text(driver, total_time_xpath)\n",
    "    servings = extract_element_text(driver, servings_xpath)\n",
    "\n",
    "    # Extract ingredients\n",
    "    ingredients_xpath = '//ul[@class=\"mm-recipes-structured-ingredients__list\"]/li'\n",
    "    ingredient_elements = extract_elements(driver, ingredients_xpath)\n",
    "\n",
    "    ingredientes = []\n",
    "    for item in ingredient_elements:\n",
    "        cantidad = extract_element_text(item, './/span[@data-ingredient-quantity=\"true\"]')\n",
    "        unidad = extract_element_text(item, './/span[@data-ingredient-unit=\"true\"]')\n",
    "        ingrediente = extract_element_text(item, './/span[@data-ingredient-name=\"true\"]')\n",
    "        ingredientes.append(f'{cantidad} {unidad} {ingrediente}'.strip())\n",
    "\n",
    "    # Extract preparation steps\n",
    "    steps_xpath = '//ol[@id=\"mntl-sc-block_1-0\"]/li/p[not(contains(@class, \"figure-article-caption\"))]'\n",
    "    step_elements = extract_elements(driver, steps_xpath)\n",
    "\n",
    "    pasos = [\n",
    "        f\"Paso {i + 1}: {step.text.strip()}\"\n",
    "        for i, step in enumerate(step_elements)\n",
    "        if step.text.strip()\n",
    "    ]\n",
    "\n",
    "    # Create DataFrame\n",
    "    df = pd.DataFrame([{\n",
    "        'titulo': titulo,\n",
    "        'tiempo_preparacion': prep_time,\n",
    "        'tiempo_cocina': cook_time,\n",
    "        'tiempo_total': total_time,\n",
    "        'porciones': servings,\n",
    "        'ingredientes': '\\n'.join(ingredientes),\n",
    "        'pasos': '\\n'.join(pasos)\n",
    "    }])\n",
    "\n",
    "    return df"
   ]
  },
  {
   "cell_type": "markdown",
   "metadata": {},
   "source": [
    "### LLAMAR A LAS FUNCIONES Y REALIZAR LA EXTRACCIÓN DE DATOS DE LA PÁGINA"
   ]
  },
  {
   "cell_type": "code",
   "execution_count": 9,
   "metadata": {},
   "outputs": [
    {
     "data": {
      "text/html": [
       "<div>\n",
       "<style scoped>\n",
       "    .dataframe tbody tr th:only-of-type {\n",
       "        vertical-align: middle;\n",
       "    }\n",
       "\n",
       "    .dataframe tbody tr th {\n",
       "        vertical-align: top;\n",
       "    }\n",
       "\n",
       "    .dataframe thead th {\n",
       "        text-align: right;\n",
       "    }\n",
       "</style>\n",
       "<table border=\"1\" class=\"dataframe\">\n",
       "  <thead>\n",
       "    <tr style=\"text-align: right;\">\n",
       "      <th></th>\n",
       "      <th>titulo</th>\n",
       "      <th>tiempo_preparacion</th>\n",
       "      <th>tiempo_cocina</th>\n",
       "      <th>tiempo_total</th>\n",
       "      <th>porciones</th>\n",
       "      <th>ingredientes</th>\n",
       "      <th>pasos</th>\n",
       "    </tr>\n",
       "  </thead>\n",
       "  <tbody>\n",
       "    <tr>\n",
       "      <th>0</th>\n",
       "      <td>Nutella Puff Pastry Christmas Tree</td>\n",
       "      <td>35 mins</td>\n",
       "      <td>15 mins</td>\n",
       "      <td>55 mins</td>\n",
       "      <td>8</td>\n",
       "      <td>1 (17.5 ounce) package frozen puff pastry, tha...</td>\n",
       "      <td>Paso 1: Preheat the oven to 375 degrees F (190...</td>\n",
       "    </tr>\n",
       "  </tbody>\n",
       "</table>\n",
       "</div>"
      ],
      "text/plain": [
       "                               titulo tiempo_preparacion tiempo_cocina  \\\n",
       "0  Nutella Puff Pastry Christmas Tree            35 mins       15 mins   \n",
       "\n",
       "  tiempo_total porciones                                       ingredientes  \\\n",
       "0      55 mins         8  1 (17.5 ounce) package frozen puff pastry, tha...   \n",
       "\n",
       "                                               pasos  \n",
       "0  Paso 1: Preheat the oven to 375 degrees F (190...  "
      ]
     },
     "metadata": {},
     "output_type": "display_data"
    },
    {
     "name": "stdout",
     "output_type": "stream",
     "text": [
      "Receta data saved to WebScrapping/'receta_data.csv'\n",
      "Receta data saved to WebScrapping/'receta_data.xlsx'\n"
     ]
    }
   ],
   "source": [
    "driver = webdriver.Chrome()\n",
    "\n",
    "try:\n",
    "    # Visit the target recipe page\n",
    "    driver.get(\"https://www.allrecipes.com/recipe/256100/nutella-pastry-christmas-tree/\")\n",
    "\n",
    "    # Scrape the recipe and display results\n",
    "    recipe_df = scrape_recipe(driver)\n",
    "    display(recipe_df)  # Display DataFrame in Jupyter Notebook\n",
    "\n",
    "    # Save the DataFrame to a CSV file\n",
    "    recipe_df.to_csv('WebScrapping_Data/receta_data.csv', index=False)\n",
    "    print(\"Receta data saved to WebScrapping/'receta_data.csv'\")\n",
    "\n",
    "    # Save the DataFrame to an Excel file\n",
    "    recipe_df.to_excel('WebScrapping_Data/receta_data.xlsx', index=False)\n",
    "    print(\"Receta data saved to WebScrapping/'receta_data.xlsx'\")\n",
    "finally:\n",
    "    # Close the browser\n",
    "    driver.quit()"
   ]
  },
  {
   "cell_type": "code",
   "execution_count": null,
   "metadata": {},
   "outputs": [],
   "source": []
  },
  {
   "cell_type": "code",
   "execution_count": null,
   "metadata": {},
   "outputs": [],
   "source": []
  },
  {
   "cell_type": "markdown",
   "metadata": {},
   "source": [
    "### EXTRAER LA RECETA DE LA PÁGINA"
   ]
  },
  {
   "cell_type": "code",
   "execution_count": 33,
   "metadata": {},
   "outputs": [
    {
     "name": "stdout",
     "output_type": "stream",
     "text": [
      "                               titulo tiempo_preparacion tiempo_cocina  \\\n",
      "0  Nutella Puff Pastry Christmas Tree            35 mins       15 mins   \n",
      "\n",
      "  tiempo_total porciones                                       ingredientes  \\\n",
      "0      55 mins         8  1 (17.5 ounce) package frozen puff pastry, tha...   \n",
      "\n",
      "                                               pasos  \n",
      "0  Paso 1: Preheat the oven to 375 degrees F (190...  \n"
     ]
    }
   ],
   "source": [
    " # Extraer título \n",
    "titulo_xpath = '//h1[@class=\"article-heading text-headline-400\"]'\n",
    "titulo = driver.find_element(By.XPATH, titulo_xpath).text.strip()\n",
    "\n",
    "# Extraer tiempos y porciones\n",
    "prep_time_xpath = '//div[contains(text(),\"Prep Time:\")]/following-sibling::div'\n",
    "cook_time_xpath = '//div[contains(text(),\"Cook Time:\")]/following-sibling::div'\n",
    "total_time_xpath = '//div[contains(text(),\"Total Time:\")]/following-sibling::div'\n",
    "servings_xpath = '//div[contains(text(),\"Servings:\")]/following-sibling::div'\n",
    "\n",
    "prep_time = driver.find_element(By.XPATH, prep_time_xpath).text.strip()\n",
    "cook_time = driver.find_element(By.XPATH, cook_time_xpath).text.strip()\n",
    "total_time = driver.find_element(By.XPATH, total_time_xpath).text.strip()\n",
    "servings = driver.find_element(By.XPATH, servings_xpath).text.strip()\n",
    "\n",
    "# Extraer ingredientes\n",
    "ingredients_xpath = '//ul[@class=\"mm-recipes-structured-ingredients__list\"]/li'\n",
    "ingredient_elements = driver.find_elements(By.XPATH, ingredients_xpath)\n",
    "\n",
    "ingredientes = []\n",
    "for item in ingredient_elements:\n",
    "    try:\n",
    "        cantidad = item.find_element(By.XPATH, './/span[@data-ingredient-quantity=\"true\"]').text.strip()\n",
    "    except:\n",
    "        cantidad = ''\n",
    "    \n",
    "    try:\n",
    "        unidad = item.find_element(By.XPATH, './/span[@data-ingredient-unit=\"true\"]').text.strip()\n",
    "    except:\n",
    "        unidad = ''\n",
    "    \n",
    "    try:\n",
    "        ingrediente = item.find_element(By.XPATH, './/span[@data-ingredient-name=\"true\"]').text.strip()\n",
    "    except:\n",
    "        ingrediente = ''\n",
    "    \n",
    "    ingredientes.append(f'{cantidad} {unidad} {ingrediente}'.strip())\n",
    "\n",
    "# Extraer pasos de preparación\n",
    "steps_xpath = '//ol[@id=\"mntl-sc-block_1-0\"]/li/p[not(contains(@class, \"figure-article-caption\"))]'\n",
    "step_elements = driver.find_elements(By.XPATH, steps_xpath)\n",
    "\n",
    "# Crear lista de pasos\n",
    "pasos = []\n",
    "for i, step in enumerate(step_elements, 1):\n",
    "    paso_texto = step.text.strip()\n",
    "    if paso_texto:  # Solo agregar si el paso tiene texto\n",
    "        pasos.append(f\"Paso {i}: {paso_texto}\")\n",
    "\n",
    "# Crear DataFrame\n",
    "df = pd.DataFrame([{\n",
    "    'titulo': titulo,\n",
    "    'tiempo_preparacion': prep_time,\n",
    "    'tiempo_cocina': cook_time,\n",
    "    'tiempo_total': total_time,\n",
    "    'porciones': servings,\n",
    "    'ingredientes': '\\n'.join(ingredientes),\n",
    "    'pasos': '\\n'.join(pasos)  # Agregar los pasos como una nueva columna\n",
    "}])\n",
    "\n",
    "print(df)\n",
    "\n",
    "# Cerrar el navegador\n",
    "driver.quit()"
   ]
  },
  {
   "cell_type": "markdown",
   "metadata": {},
   "source": [
    "### GUARDAR EN UN DATASET"
   ]
  },
  {
   "cell_type": "code",
   "execution_count": 34,
   "metadata": {},
   "outputs": [
    {
     "name": "stdout",
     "output_type": "stream",
     "text": [
      "El archivo CSV ha sido creado exitosamente.\n",
      "\n",
      "Contenido del DataFrame:\n",
      "                               titulo tiempo_preparacion tiempo_cocina  \\\n",
      "0  Nutella Puff Pastry Christmas Tree            35 mins       15 mins   \n",
      "\n",
      "  tiempo_total porciones                                       ingredientes  \\\n",
      "0      55 mins         8  1 (17.5 ounce) package frozen puff pastry, tha...   \n",
      "\n",
      "                                               pasos  \n",
      "0  Paso 1: Preheat the oven to 375 degrees F (190...  \n"
     ]
    }
   ],
   "source": [
    "df.to_csv('Recetas.csv', index=False, encoding='utf-8-sig')\n",
    "print(\"El archivo CSV ha sido creado exitosamente.\")\n",
    "print(\"\\nContenido del DataFrame:\")\n",
    "print(df)"
   ]
  },
  {
   "cell_type": "code",
   "execution_count": null,
   "metadata": {},
   "outputs": [],
   "source": []
  }
 ],
 "metadata": {
  "kernelspec": {
   "display_name": "Python 3",
   "language": "python",
   "name": "python3"
  },
  "language_info": {
   "codemirror_mode": {
    "name": "ipython",
    "version": 3
   },
   "file_extension": ".py",
   "mimetype": "text/x-python",
   "name": "python",
   "nbconvert_exporter": "python",
   "pygments_lexer": "ipython3",
   "version": "3.12.5"
  }
 },
 "nbformat": 4,
 "nbformat_minor": 2
}
